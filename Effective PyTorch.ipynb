{
 "cells": [
  {
   "cell_type": "code",
   "execution_count": 1,
   "metadata": {},
   "outputs": [],
   "source": [
    "import torch\n",
    "import numpy\n",
    "a = torch.tensor(3)\n",
    "b = torch.tensor([1,2,3])\n",
    "c = torch.zeros(3,2)"
   ]
  },
  {
   "cell_type": "code",
   "execution_count": 2,
   "metadata": {},
   "outputs": [
    {
     "data": {
      "text/plain": [
       "tensor([[0., 0.],\n",
       "        [0., 0.],\n",
       "        [0., 0.]])"
      ]
     },
     "execution_count": 2,
     "metadata": {},
     "output_type": "execute_result"
    }
   ],
   "source": [
    "c"
   ]
  },
  {
   "cell_type": "code",
   "execution_count": 4,
   "metadata": {},
   "outputs": [
    {
     "data": {
      "text/plain": [
       "tensor([[0., 0.],\n",
       "        [0., 0.],\n",
       "        [0., 0.]])"
      ]
     },
     "execution_count": 4,
     "metadata": {},
     "output_type": "execute_result"
    }
   ],
   "source": [
    "d = torch.zeros([3,2])\n",
    "d"
   ]
  },
  {
   "cell_type": "code",
   "execution_count": 5,
   "metadata": {},
   "outputs": [
    {
     "data": {
      "text/plain": [
       "tensor([[0.0942, 0.8990, 0.5628],\n",
       "        [0.5245, 0.9958, 0.4340],\n",
       "        [0.3388, 0.5685, 0.0998]])"
      ]
     },
     "execution_count": 5,
     "metadata": {},
     "output_type": "execute_result"
    }
   ],
   "source": [
    "torch.rand(3,3)"
   ]
  },
  {
   "cell_type": "code",
   "execution_count": 6,
   "metadata": {},
   "outputs": [
    {
     "data": {
      "text/plain": [
       "tensor([[ 4.6238,  2.3873, -0.6328, -0.3363],\n",
       "        [ 4.6013,  4.3367, -0.3081,  1.9393],\n",
       "        [-0.0841, -1.3968,  1.0518,  0.8191]])"
      ]
     },
     "execution_count": 6,
     "metadata": {},
     "output_type": "execute_result"
    }
   ],
   "source": [
    "x = torch.randn(3,5)\n",
    "y = torch.randn(5,4)\n",
    "z = x @ y\n",
    "z"
   ]
  },
  {
   "cell_type": "code",
   "execution_count": 7,
   "metadata": {},
   "outputs": [
    {
     "data": {
      "text/plain": [
       "array([[ 4.623833  ,  2.3873324 , -0.63276184, -0.33627203],\n",
       "       [ 4.601251  ,  4.3367076 , -0.30809346,  1.9392987 ],\n",
       "       [-0.08412287, -1.3968433 ,  1.051817  ,  0.81908137]],\n",
       "      dtype=float32)"
      ]
     },
     "execution_count": 7,
     "metadata": {},
     "output_type": "execute_result"
    }
   ],
   "source": [
    "z.numpy()"
   ]
  },
  {
   "cell_type": "code",
   "execution_count": 9,
   "metadata": {},
   "outputs": [
    {
     "data": {
      "text/plain": [
       "(tensor(-2.),)"
      ]
     },
     "execution_count": 9,
     "metadata": {},
     "output_type": "execute_result"
    }
   ],
   "source": [
    "# Autograd\n",
    "x = torch.tensor(1.0, requires_grad=True)\n",
    "def u(x):\n",
    "    return x*x\n",
    "def g(u):\n",
    "    return -u\n",
    "\n",
    "dgdx = torch.autograd.grad(g(u(x)),x)\n",
    "dgdx"
   ]
  },
  {
   "cell_type": "code",
   "execution_count": 20,
   "metadata": {},
   "outputs": [
    {
     "name": "stderr",
     "output_type": "stream",
     "text": [
      "D:\\Anaconda\\lib\\site-packages\\ipykernel_launcher.py:2: UserWarning: To copy construct from a tensor, it is recommended to use sourceTensor.clone().detach() or sourceTensor.clone().detach().requires_grad_(True), rather than torch.tensor(sourceTensor).\n",
      "  \n"
     ]
    },
    {
     "name": "stdout",
     "output_type": "stream",
     "text": [
      "[[ 4.9960060e+00]\n",
      " [-5.6581717e-04]\n",
      " [ 3.2330198e+00]]\n"
     ]
    }
   ],
   "source": [
    "# Curve fitting\n",
    "w = torch.tensor(torch.randn(3,1), requires_grad=True)\n",
    "opt = torch.optim.Adam([w],0.1)\n",
    "\n",
    "def model(x):\n",
    "    f = torch.stack([x*x, x, torch.ones_like(x)], dim=1)\n",
    "    y_hat = torch.squeeze(f @ w, 1)\n",
    "    return y_hat\n",
    "\n",
    "def compute_loss(y, yhat):\n",
    "    # The loss is defined to be the mean squared error distance between our\n",
    "    # estimate of y and its true value. \n",
    "    loss = torch.nn.functional.mse_loss(yhat, y)\n",
    "    return loss\n",
    "\n",
    "def generate_data():\n",
    "    # Generate some training data based on the true function\n",
    "    x = torch.rand(100) * 20 - 10\n",
    "    y = 5 * x * x + 3\n",
    "    return x, y\n",
    "\n",
    "def train_step():\n",
    "    x, y = generate_data()\n",
    "    yhat = model(x)\n",
    "    loss = compute_loss(y, yhat)\n",
    "    opt.zero_grad()\n",
    "    loss.backward()\n",
    "    opt.step()\n",
    "\n",
    "for _ in range(1000):\n",
    "    train_step()\n",
    "\n",
    "print(w.detach().numpy())\n",
    "\n"
   ]
  },
  {
   "cell_type": "markdown",
   "metadata": {},
   "source": [
    "organized Modules"
   ]
  },
  {
   "cell_type": "code",
   "execution_count": 22,
   "metadata": {},
   "outputs": [
    {
     "name": "stdout",
     "output_type": "stream",
     "text": [
      "Parameter containing:\n",
      "tensor([0.9651], requires_grad=True)\n",
      "Parameter containing:\n",
      "tensor([0.4609], requires_grad=True)\n",
      "Parameter containing:\n",
      "tensor([4.9945], requires_grad=True) Parameter containing:\n",
      "tensor([3.1604], requires_grad=True)\n"
     ]
    }
   ],
   "source": [
    "import torch\n",
    "\n",
    "class Net(torch.nn.Module):\n",
    "\n",
    "  def __init__(self):\n",
    "    super().__init__()\n",
    "    self.a = torch.nn.Parameter(torch.rand(1))\n",
    "    self.b = torch.nn.Parameter(torch.rand(1))\n",
    "\n",
    "  def forward(self, x):\n",
    "    yhat = self.a * x + self.b\n",
    "    return yhat\n",
    "\n",
    "\n",
    "x = torch.arange(100, dtype=torch.float32)\n",
    "\n",
    "net = Net()\n",
    "y = net(x)\n",
    "\n",
    "for p in net.parameters():\n",
    "    print(p)\n",
    "    \n",
    "x = torch.arange(100, dtype=torch.float32) / 100\n",
    "y = 5 * x + 3 + torch.rand(100) * 0.3\n",
    "# Similar to the previous example, you can define a loss function and optimize the parameters of your model as follows:\n",
    "\n",
    "criterion = torch.nn.MSELoss()\n",
    "optimizer = torch.optim.SGD(net.parameters(), lr=0.01)\n",
    "\n",
    "for i in range(10000):\n",
    "  net.zero_grad()\n",
    "  yhat = net(x)\n",
    "  loss = criterion(yhat, y)\n",
    "  loss.backward()\n",
    "  optimizer.step()\n",
    "\n",
    "print(net.a, net.b) # Should be close to 5 and 3"
   ]
  },
  {
   "cell_type": "code",
   "execution_count": null,
   "metadata": {},
   "outputs": [],
   "source": [
    "class Net(torch.nn.Module):\n",
    "\n",
    "  def __init__(self):\n",
    "    super().__init__()\n",
    "    self.linear = torch.nn.Linear(1, 1)\n",
    "\n",
    "  def forward(self, x):\n",
    "    yhat = self.linear(x.unsqueeze(1)).squeeze(1)\n",
    "    return yhat\n",
    "\n",
    "# Note that we used squeeze and unsqueeze since torch.nn.Linear \n",
    "# operates on batch of vectors as opposed to scalars."
   ]
  },
  {
   "cell_type": "code",
   "execution_count": null,
   "metadata": {},
   "outputs": [],
   "source": [
    "model = torch.nn.Sequential(\n",
    "    torch.nn.Linear(64, 32),\n",
    "    torch.nn.ReLU(),\n",
    "    torch.nn.Linear(32, 10),\n",
    ")"
   ]
  },
  {
   "cell_type": "code",
   "execution_count": null,
   "metadata": {},
   "outputs": [],
   "source": [
    "# floating\n",
    "import torch\n",
    "\n",
    "def softmax(logits):\n",
    "    exp = torch.exp(logits - torch.reduce_max(logits))\n",
    "    return exp / torch.sum(exp)\n",
    "\n",
    "print(softmax(torch.tensor([1000., 0.])).numpy()) "
   ]
  }
 ],
 "metadata": {
  "kernelspec": {
   "display_name": "Python 3",
   "language": "python",
   "name": "python3"
  },
  "language_info": {
   "codemirror_mode": {
    "name": "ipython",
    "version": 3
   },
   "file_extension": ".py",
   "mimetype": "text/x-python",
   "name": "python",
   "nbconvert_exporter": "python",
   "pygments_lexer": "ipython3",
   "version": "3.7.1"
  },
  "toc": {
   "base_numbering": 1,
   "nav_menu": {},
   "number_sections": true,
   "sideBar": true,
   "skip_h1_title": false,
   "title_cell": "Table of Contents",
   "title_sidebar": "Contents",
   "toc_cell": false,
   "toc_position": {},
   "toc_section_display": true,
   "toc_window_display": false
  },
  "varInspector": {
   "cols": {
    "lenName": 16,
    "lenType": 16,
    "lenVar": 40
   },
   "kernels_config": {
    "python": {
     "delete_cmd_postfix": "",
     "delete_cmd_prefix": "del ",
     "library": "var_list.py",
     "varRefreshCmd": "print(var_dic_list())"
    },
    "r": {
     "delete_cmd_postfix": ") ",
     "delete_cmd_prefix": "rm(",
     "library": "var_list.r",
     "varRefreshCmd": "cat(var_dic_list()) "
    }
   },
   "types_to_exclude": [
    "module",
    "function",
    "builtin_function_or_method",
    "instance",
    "_Feature"
   ],
   "window_display": false
  }
 },
 "nbformat": 4,
 "nbformat_minor": 2
}
